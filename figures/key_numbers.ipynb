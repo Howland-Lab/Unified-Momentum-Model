{
 "cells": [
  {
   "cell_type": "code",
   "execution_count": 1,
   "metadata": {},
   "outputs": [],
   "source": [
    "from scipy.optimize import minimize_scalar\n",
    "\n",
    "from UnifiedMomentumModel.Momentum import UnifiedMomentum"
   ]
  },
  {
   "cell_type": "markdown",
   "metadata": {},
   "source": [
    "# The new Betz Limit"
   ]
  },
  {
   "cell_type": "code",
   "execution_count": 2,
   "metadata": {},
   "outputs": [
    {
     "name": "stdout",
     "output_type": "stream",
     "text": [
      "Maximum $C_p$ = 0.5984 (0.9792% higher)\n",
      "Maximising $a_n$ = 0.3451 (3.5339% higher)\n",
      "Maximising $C_T'$ = 2.1305 (6.5269% higher)\n"
     ]
    }
   ],
   "source": [
    "model = UnifiedMomentum()\n",
    "\n",
    "\n",
    "def to_minimize(x):\n",
    "    Ctprime = x\n",
    "    sol = model(Ctprime, 0)\n",
    "    return -sol.Cp\n",
    "\n",
    "\n",
    "sol = minimize_scalar(to_minimize, bounds=(0.01, 3))\n",
    "Ctprime_maximising = sol.x\n",
    "sol = model(Ctprime_maximising, 0)\n",
    "print(f\"Maximum $C_p$ = {sol.Cp[0]:.4f} ({(sol.Cp[0]/(16/27) - 1) * 100:.4f}% higher)\")\n",
    "print(f\"Maximising $a_n$ = {sol.an[0]:.4f} ({(sol.an[0]/(1/3) - 1) * 100:.4f}% higher)\")\n",
    "print(\n",
    "    f\"Maximising $C_T'$ = {sol.Ctprime[0]:.4f} ({(sol.Ctprime[0]/2 - 1) * 100:.4f}% higher)\"\n",
    ")"
   ]
  },
  {
   "cell_type": "markdown",
   "metadata": {},
   "source": [
    "# Model accuracy vs LES"
   ]
  },
  {
   "cell_type": "code",
   "execution_count": 3,
   "metadata": {},
   "outputs": [],
   "source": [
    "from pathlib import Path\n",
    "from typing import Dict, Tuple\n",
    "from dataclasses import dataclass\n",
    "from scipy.interpolate import UnivariateSpline\n",
    "import os\n",
    "\n",
    "import numpy as np\n",
    "from numpy.typing import ArrayLike\n",
    "\n",
    "from scipy.io import loadmat\n",
    "\n",
    "\n",
    "lesdir = Path(os.getcwd()) / \"LES_data\""
   ]
  },
  {
   "cell_type": "markdown",
   "metadata": {},
   "source": [
    "# Collect data to compare\n",
    "Data to compared is collected in a dictionary of lists of `MomentumSolution` objects (`Dict[str, List[MomentumSolution]]`)"
   ]
  },
  {
   "cell_type": "code",
   "execution_count": 4,
   "metadata": {},
   "outputs": [],
   "source": [
    "@dataclass\n",
    "class ContourData:\n",
    "    \"\"\"\n",
    "    Stores the Cp grid to be plotted in a contour plot.\n",
    "    \"\"\"\n",
    "\n",
    "    yaw: ArrayLike  # 1D [deg]\n",
    "    Ctprime: ArrayLike  # 1D\n",
    "    Cp: ArrayLike  # 2D\n",
    "\n",
    "    def data(self) -> Tuple[ArrayLike]:\n",
    "        return self.yaw, self.Ctprime, self.Cp\n",
    "\n",
    "    def power_maximising_setpoints(self) -> (ArrayLike, ArrayLike):\n",
    "        return self.yaw, self.Ctprime[np.argmax(self.Cp, axis=1)]\n",
    "\n",
    "\n",
    "# Set up results dictionary\n",
    "results: Dict[str, ContourData] = {}"
   ]
  },
  {
   "cell_type": "code",
   "execution_count": 5,
   "metadata": {},
   "outputs": [],
   "source": [
    "data = loadmat(lesdir / \"Cp_les_contour_data.mat\")\n",
    "\n",
    "Ctprimes = data[\"ctp_les\"][0]\n",
    "yaws = data[\"yaw_les\"][0]\n",
    "Cps = data[\"cp_les\"]\n",
    "\n",
    "results[\"LES\"] = ContourData(yaws, Ctprimes, Cps)"
   ]
  },
  {
   "cell_type": "markdown",
   "metadata": {},
   "source": [
    "# Generate `classical` model data"
   ]
  },
  {
   "cell_type": "code",
   "execution_count": 6,
   "metadata": {},
   "outputs": [],
   "source": [
    "an = Ctprimes / (Ctprimes + 4)  # From C_T = 4a(1-a) and C_t = C_T' (1-a)^2\n",
    "\n",
    "\n",
    "Ctprime_mesh, yaw_mesh = np.meshgrid(Ctprimes, yaws)\n",
    "Cps = Ctprime_mesh * (1 - an) ** 3 * np.cos(np.deg2rad(yaw_mesh)) ** 3\n",
    "\n",
    "results[\"classical\"] = ContourData(yaws, Ctprimes, Cps)"
   ]
  },
  {
   "cell_type": "markdown",
   "metadata": {},
   "source": [
    "# Generate `unified` momentum model Data"
   ]
  },
  {
   "cell_type": "code",
   "execution_count": 7,
   "metadata": {},
   "outputs": [
    {
     "name": "stderr",
     "output_type": "stream",
     "text": [
      "/home/jaime/Repositories/Unified-Momentum-Model/UnifiedMomentumModel/Momentum.py:159: RuntimeWarning: divide by zero encountered in divide\n",
      "  np.cos(yaw)\n",
      "/home/jaime/Repositories/Unified-Momentum-Model/UnifiedMomentumModel/Momentum.py:169: RuntimeWarning: invalid value encountered in divide\n",
      "  -dp / (0.5 * Ctprime * np.cos(yaw) ** 2)\n",
      "/home/jaime/Repositories/Unified-Momentum-Model/UnifiedMomentumModel/Momentum.py:170: RuntimeWarning: invalid value encountered in divide\n",
      "  + (1 - u4**2 - v4**2) / (Ctprime * np.cos(yaw) ** 2)\n",
      "/home/jaime/Repositories/Unified-Momentum-Model/UnifiedMomentumModel/Utilities/FixedPointIteration.py:57: RuntimeWarning: All-NaN slice encountered\n",
      "  max_resid = [np.nanmax(np.abs(_r)) for _r in residuals]\n"
     ]
    }
   ],
   "source": [
    "Cps = np.zeros((len(yaws), len(Ctprimes)))\n",
    "model = UnifiedMomentum()\n",
    "\n",
    "for i, yaw in enumerate(yaws):\n",
    "    for j, Ctprime in enumerate(Ctprimes):\n",
    "        sol = model(Ctprime, np.deg2rad(yaw))\n",
    "        Cps[i, j] = 0 if np.isnan(sol.Cp) else sol.Cp\n",
    "\n",
    "results[\"unified\"] = ContourData(yaws, Ctprimes, Cps)"
   ]
  },
  {
   "cell_type": "markdown",
   "metadata": {},
   "source": [
    "# Generate `unified` momentum model Data *With linear pressure only*"
   ]
  },
  {
   "cell_type": "code",
   "execution_count": 10,
   "metadata": {},
   "outputs": [],
   "source": [
    "Cps = np.zeros((len(yaws), len(Ctprimes)))\n",
    "model = UnifiedMomentum(cached=False, max_iter=0)\n",
    "\n",
    "for i, yaw in enumerate(yaws):\n",
    "    for j, Ctprime in enumerate(Ctprimes):\n",
    "        sol = model(Ctprime, np.deg2rad(yaw))\n",
    "\n",
    "        Cps[i, j] = 0 if np.isnan(sol.Cp) else sol.Cp\n",
    "\n",
    "results[\"linear\"] = ContourData(yaws, Ctprimes, Cps)"
   ]
  },
  {
   "cell_type": "markdown",
   "metadata": {},
   "source": [
    "## Error"
   ]
  },
  {
   "cell_type": "code",
   "execution_count": 11,
   "metadata": {},
   "outputs": [
    {
     "name": "stdout",
     "output_type": "stream",
     "text": [
      "Unified presents a -84.3% error reduction compared to classical.\n",
      "Unified presents a -21.0% error reduction compared to linear.\n"
     ]
    }
   ],
   "source": [
    "error_classical = np.mean(np.abs(results[\"classical\"].Cp - results[\"LES\"].Cp))\n",
    "error_linear = np.mean(np.abs(results[\"linear\"].Cp - results[\"LES\"].Cp))\n",
    "error_unified = np.mean(np.abs(results[\"unified\"].Cp - results[\"LES\"].Cp))\n",
    "\n",
    "error_classical, error_linear, error_unified\n",
    "\n",
    "print(\n",
    "    f\"Unified presents a {(error_unified/error_classical-1)*100:.1f}% error reduction compared to classical.\"\n",
    ")\n",
    "print(\n",
    "    f\"Unified presents a {(error_unified/error_linear-1)*100:.1f}% error reduction compared to linear.\"\n",
    ")"
   ]
  },
  {
   "cell_type": "code",
   "execution_count": null,
   "metadata": {},
   "outputs": [],
   "source": []
  }
 ],
 "metadata": {
  "kernelspec": {
   "display_name": ".venv",
   "language": "python",
   "name": "python3"
  },
  "language_info": {
   "codemirror_mode": {
    "name": "ipython",
    "version": 3
   },
   "file_extension": ".py",
   "mimetype": "text/x-python",
   "name": "python",
   "nbconvert_exporter": "python",
   "pygments_lexer": "ipython3",
   "version": "3.10.12"
  }
 },
 "nbformat": 4,
 "nbformat_minor": 2
}
