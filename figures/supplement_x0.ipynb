{
 "cells": [
  {
   "cell_type": "code",
   "execution_count": 1,
   "metadata": {},
   "outputs": [],
   "source": [
    "from pathlib import Path\n",
    "from typing import List, Optional, Dict, Union, Tuple\n",
    "from dataclasses import dataclass\n",
    "import itertools\n",
    "import os\n",
    "\n",
    "import numpy as np\n",
    "import matplotlib.pyplot as plt\n",
    "import polars as pl\n",
    "from scipy.io import loadmat\n",
    "\n",
    "\n",
    "from UnifiedMomentumModel import Momentum\n",
    "\n",
    "\n",
    "# Use Latex Fonts\n",
    "plt.rcParams.update({\"text.usetex\": True, \"font.family\": \"serif\"})\n",
    "\n",
    "lesdir = Path(os.getcwd()) / \"LES_data\"\n",
    "figdir = Path(os.getcwd()).parent / \"fig\"\n",
    "figdir.mkdir(exist_ok=True, parents=True)\n",
    "figdir_eps = figdir / \"eps\"\n",
    "figdir_eps.mkdir(exist_ok=True, parents=True)"
   ]
  },
  {
   "cell_type": "markdown",
   "metadata": {},
   "source": [
    "# Collect data to compare\n",
    "Data to compared is collected in a dictionary of lists of `MomentumSolution` objects (`Dict[str, List[MomentumSolution]]`)"
   ]
  },
  {
   "cell_type": "markdown",
   "metadata": {},
   "source": [
    "## Load LES Data\n",
    "We first load the LES data into a `MomentumSolution`-like object. First we define this object:"
   ]
  },
  {
   "cell_type": "code",
   "execution_count": 2,
   "metadata": {},
   "outputs": [],
   "source": [
    "@dataclass\n",
    "class LESSolution:\n",
    "    \"\"\"\n",
    "    Stores the results from LES solutions for later comparison with Unified\n",
    "    Momentum solution.\n",
    "    \"\"\"\n",
    "\n",
    "    Ctprime: float\n",
    "    an: float\n",
    "    u4: float\n",
    "    v4: float\n",
    "    x0: float\n",
    "    dp: float\n",
    "    Cp: float\n",
    "    Ct: float\n",
    "    dp_NL: Optional[float] = 0.0\n",
    "    niter: Optional[int] = 1\n",
    "    converged: Optional[bool] = True\n",
    "    beta: Optional[float] = 0.0\n",
    "\n",
    "\n",
    "MomentumSolutionLike = Union[Momentum.MomentumSolution, LESSolution]"
   ]
  },
  {
   "cell_type": "code",
   "execution_count": 3,
   "metadata": {},
   "outputs": [],
   "source": [
    "# Set up results dictionary\n",
    "results: Dict[str, List[MomentumSolutionLike]] = {}"
   ]
  },
  {
   "cell_type": "code",
   "execution_count": 4,
   "metadata": {},
   "outputs": [],
   "source": [
    "def load_LES_data_ctp(filename: Path) -> List[LESSolution]:\n",
    "    data = loadmat(filename)\n",
    "\n",
    "    out = []\n",
    "    for Cp, Ct, Ctp, p4, a, u4, x0 in zip(\n",
    "        data[\"Cp_ctp_input\"][0],\n",
    "        data[\"Ct_ctp_input\"][0],\n",
    "        data[\"Ctp_vector\"][0],\n",
    "        data[\"P4_ctp_input\"][0],\n",
    "        data[\"a_ctp_input\"][0],\n",
    "        data[\"u4_ctp_input\"][0],\n",
    "        data[\"x0_ctp_input\"][0],\n",
    "    ):\n",
    "        # Remove large x0 values\n",
    "        if x0 >= 5.1:\n",
    "            x0 = np.nan\n",
    "        out.append(LESSolution(Ctp, a, u4, 0, x0, p4, Cp, Ct))\n",
    "\n",
    "    return out\n",
    "\n",
    "\n",
    "def load_LES_data_ct(filename: Path) -> List[LESSolution]:\n",
    "    data = loadmat(filename)\n",
    "    out = []\n",
    "    for Cp, Ct, p4, a, u4, x0 in zip(\n",
    "        data[\"Cp_ct_input\"][0],\n",
    "        data[\"Ct_ct_input\"][0],\n",
    "        data[\"P4_ct_input\"][0],\n",
    "        data[\"a_ct_input\"][0],\n",
    "        data[\"u4_ct_input\"][0],\n",
    "        data[\"x0_ct_input_positive_Ct_only\"][0],\n",
    "    ):\n",
    "        Ctp = Ct / (1 - a) ** 2\n",
    "\n",
    "        # Remove large x0 values\n",
    "        if x0 >= 5.1:\n",
    "            x0 = np.nan\n",
    "\n",
    "        # Remove LES points with infeasable induction values\n",
    "        if a < 1.1:\n",
    "            out.append(LESSolution(Ctp, a, u4, 0, x0, p4, Cp, Ct))\n",
    "    return out\n",
    "\n",
    "\n",
    "def load_LES_data_NREL(filename: Path) -> List[LESSolution]:\n",
    "    df = pl.read_csv(\n",
    "        filename, has_header=False, columns=[0, 1], new_columns=[\"a\", \"Ct\"]\n",
    "    )\n",
    "    out = []\n",
    "\n",
    "    for a, ct in df.iter_rows():\n",
    "        out.append(LESSolution(np.nan, a, np.nan, np.nan, np.nan, np.nan, np.nan, ct))\n",
    "    return out\n",
    "\n",
    "\n",
    "# Load LES\n",
    "LES_data_fn = lesdir / \"LES_streamtube_data.mat\"\n",
    "NREL_LES_data_fn = lesdir / \"ct_data_les_tony.txt\"\n",
    "\n",
    "results[\"LES_ctp\"] = load_LES_data_ctp(LES_data_fn)\n",
    "results[\"LES_ct\"] = load_LES_data_ct(LES_data_fn)\n",
    "results[\"LES_NREL\"] = load_LES_data_NREL(NREL_LES_data_fn)"
   ]
  },
  {
   "cell_type": "markdown",
   "metadata": {},
   "source": [
    "# Generate Model Data"
   ]
  },
  {
   "cell_type": "code",
   "execution_count": 5,
   "metadata": {},
   "outputs": [],
   "source": [
    "models_to_compare = {\n",
    "    \"linear\": Momentum.UnifiedMomentum(cached=False, max_iter=0),\n",
    "    \"nonlinear\": Momentum.UnifiedMomentum(),\n",
    "    \"nonlinear_minus\": Momentum.UnifiedMomentum(beta=0.9 * 0.1403),\n",
    "    \"nonlinear_plus\": Momentum.UnifiedMomentum(beta=1.1 * 0.1403),\n",
    "}\n",
    "Ctprimes = np.concatenate(\n",
    "    [np.linspace(-2, 12, 100), np.linspace(12, 4000, 400), [100000]]\n",
    ")\n",
    "\n",
    "\n",
    "# Run unified model and variations\n",
    "for name, model in models_to_compare.items():\n",
    "    results[name] = []\n",
    "    for Ctprime in Ctprimes:\n",
    "        results[name].append(model(Ctprime, 0))"
   ]
  },
  {
   "cell_type": "markdown",
   "metadata": {},
   "source": [
    "# Plotting"
   ]
  },
  {
   "cell_type": "code",
   "execution_count": 6,
   "metadata": {},
   "outputs": [],
   "source": [
    "plot_kwargs = {\n",
    "    \"LES_ctp\": dict(ls=\"\", marker=\".\", ms=8, c=\"0.5\", label=\"LES (MIT) $C_T'$ input\"),\n",
    "    \"LES_ct\": dict(ls=\"\", marker=\".\", ms=8, c=\"b\", label=\"LES (MIT) $C_T$ input\"),\n",
    "    \"LES_NREL\": dict(\n",
    "        ls=\"\", marker=\"d\", ms=2, c=\"tab:pink\", label=\"LES (NREL) $C_T$ input\"\n",
    "    ),\n",
    "    \"classical\": dict(c=\"r\", label=\"Classical Model\"),\n",
    "    \"linear\": dict(label=\"Unified model (linear pressure only)\"),\n",
    "    \"nonlinear\": dict(c=\"k\", lw=2, label=\"Unified model\"),\n",
    "}\n",
    "\n",
    "plot_order = [\n",
    "    \"classical\",\n",
    "    # \"linear\",\n",
    "    \"LES_ctp\",\n",
    "    \"LES_ct\",\n",
    "    \"nonlinear\",\n",
    "    \"LES a priori\",\n",
    "    \"LES_NREL\",\n",
    "]"
   ]
  },
  {
   "cell_type": "code",
   "execution_count": 8,
   "metadata": {},
   "outputs": [
    {
     "name": "stderr",
     "output_type": "stream",
     "text": [
      "The PostScript backend does not support transparency; partially transparent artists will be rendered opaque.\n"
     ]
    },
    {
     "data": {
      "image/png": "[encoded data removed]",
      "text/plain": [
       "<Figure size 750x300 with 2 Axes>"
      ]
     },
     "metadata": {},
     "output_type": "display_data"
    }
   ],
   "source": [
    "fig, axes = plt.subplots(1, 2, sharex=\"col\", sharey=\"row\", figsize=(5, 2), dpi=150)\n",
    "plt.subplots_adjust(wspace=0.15, hspace=0.15)\n",
    "\n",
    "\n",
    "# Plot lines\n",
    "keys = [\"LES_ctp\", \"LES_ct\", \"linear\", \"nonlinear\"]\n",
    "for name in keys:\n",
    "    sol_list = results[name]\n",
    "\n",
    "    _plot_kwargs = plot_kwargs[name] if name in plot_kwargs else {}\n",
    "\n",
    "    ch1_val = [getattr(sol, \"x0\") for sol in sol_list]\n",
    "\n",
    "    Ctprime = [sol.Ctprime for sol in sol_list]\n",
    "    an = [sol.an for sol in sol_list]\n",
    "\n",
    "    axes[0].plot(an, ch1_val, **_plot_kwargs)\n",
    "\n",
    "    axes[1].plot(Ctprime, ch1_val, **_plot_kwargs)\n",
    "\n",
    "# Axis labels\n",
    "axes[0].set_ylabel(\"$x_0~(D)$\")\n",
    "\n",
    "axes[0].set_xlabel(\"$a_n$\")\n",
    "axes[1].set_xlabel(\"$C_T'$\")\n",
    "\n",
    "# Grid passing through origin\n",
    "[ax.axhline(0, lw=1, c=\"0.7\", ls=\"-\", zorder=-100) for ax in axes.ravel()]\n",
    "[ax.axvline(0, lw=1, c=\"0.7\", ls=\"-\", zorder=-100) for ax in axes.ravel()]\n",
    "\n",
    "# Legend\n",
    "axes[0].legend(\n",
    "    ncol=2, loc=\"lower center\", bbox_to_anchor=(1.05, 1.01), fontsize=\"small\"\n",
    ")\n",
    "\n",
    "\n",
    "axes[0].set_xlim(0, 1)\n",
    "axes[1].set_xlim(0, 12)\n",
    "axes[0].set_ylim(0, 10)\n",
    "\n",
    "plt.savefig(figdir / \"supplement_x0.png\", dpi=500, bbox_inches=\"tight\")\n",
    "plt.savefig(figdir_eps / \"supplement_x0.eps\", bbox_inches=\"tight\")"
   ]
  }
 ],
 "metadata": {
  "kernelspec": {
   "display_name": ".venv",
   "language": "python",
   "name": "python3"
  },
  "language_info": {
   "codemirror_mode": {
    "name": "ipython",
    "version": 3
   },
   "file_extension": ".py",
   "mimetype": "text/x-python",
   "name": "python",
   "nbconvert_exporter": "python",
   "pygments_lexer": "ipython3",
   "version": "3.10.12"
  }
 },
 "nbformat": 4,
 "nbformat_minor": 2
}
