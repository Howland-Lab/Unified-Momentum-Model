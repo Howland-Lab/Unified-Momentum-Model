{
 "cells": [
  {
   "cell_type": "markdown",
   "metadata": {},
   "source": [
    "# Supplement - Sensitivity Analysis\n",
    "This notebook generates Figure 3 and 4 in the supplementary material. This figure shows the sensitivity of key outputs as a function of the outlet pressure drop, $p_4-p_1$, and the wake spreading parameter, $\\beta$. Outlet streamwise velocity is particularly sensitive to changes in these values, and it's sensitivity is plotted in Figure 3. Likewise, the outlet pressure drop is sensitive to the parameter $\\beta$, which is plotted in Figure 4.\n",
    "\n",
    "## Note\n",
    "To run this notebook, extra `autodiff` feature is required. This extra contains the `Dualitic` autodifferentiator which is used to determine the sensitivity to $\\beta$ and $p_4-p_1$. The `autodiff` extra feature can be installed using:\n",
    "```\n",
    "pip install git+https://github.com/Howland-Lab/Unified-Momentum-Model.git[autodiff]\n",
    "```"
   ]
  },
  {
   "cell_type": "code",
   "execution_count": 2,
   "metadata": {},
   "outputs": [],
   "source": [
    "try:\n",
    "    import dualitic as dl\n",
    "except ModuleNotFoundError as e:\n",
    "    print(\n",
    "        \"dualitic module not found. Please reinstall the UnifiedMomentumModel package with the `autodiff` extra feature.\"\n",
    "    )\n",
    "    raise e\n",
    "\n",
    "from pathlib import Path\n",
    "import itertools\n",
    "import os\n",
    "\n",
    "import numpy as np\n",
    "import matplotlib.pyplot as plt\n",
    "from matplotlib.gridspec import GridSpec\n",
    "import polars as pl\n",
    "from scipy.interpolate import RectBivariateSpline\n",
    "\n",
    "from UnifiedMomentumModel.Utilities.Other import for_each\n",
    "from UnifiedMomentumModel.Utilities.FixedPointIteration import (\n",
    "    _fixedpointiteration,\n",
    "    fixedpointiteration,\n",
    ")\n",
    "from UnifiedMomentumModel.Momentum import UnifiedMomentum\n",
    "\n",
    "# Use Latex Fonts\n",
    "plt.rcParams.update({\"text.usetex\": True, \"font.family\": \"serif\"})\n",
    "\n",
    "\n",
    "figdir = Path(os.getcwd()).parent / \"fig\"\n",
    "figdir.mkdir(exist_ok=True, parents=True)\n",
    "figdir_eps = figdir / \"eps\"\n",
    "figdir_eps.mkdir(exist_ok=True, parents=True)"
   ]
  },
  {
   "cell_type": "markdown",
   "metadata": {},
   "source": [
    "## Pressure, $\\Delta P$, Sensitivity\n",
    "This notebook investigates the sensitivity of the pressure-corrected actuator disk model with respect to the pressure, $\\Delta P$. "
   ]
  },
  {
   "cell_type": "markdown",
   "metadata": {},
   "source": [
    "## Modify model equations to set pressure explicitly"
   ]
  },
  {
   "cell_type": "code",
   "execution_count": 3,
   "metadata": {},
   "outputs": [],
   "source": [
    "def equations_residual(x, Ctprime, gamma, dp=0.0, TI=0.0, alpha=0.58, beta=0.1403):\n",
    "    an, u4, v4 = x\n",
    "\n",
    "    e_an = (\n",
    "        1\n",
    "        - np.sqrt(\n",
    "            -dp / (0.5 * Ctprime * np.cos(gamma) ** 2)\n",
    "            + (1 - u4**2 - v4**2) / (Ctprime * np.cos(gamma) ** 2)\n",
    "        )\n",
    "        - an\n",
    "    )\n",
    "\n",
    "    e_u4 = (\n",
    "        -(1 / 4) * Ctprime * (1 - an) * np.cos(gamma) ** 2\n",
    "        + (1 / 2)\n",
    "        + (1 / 2)\n",
    "        * np.sqrt((1 / 2 * Ctprime * (1 - an) * np.cos(gamma) ** 2 - 1) ** 2 - (4 * dp))\n",
    "    ) - u4\n",
    "\n",
    "    e_v4 = -(1 / 4) * Ctprime * (1 - an) ** 2 * np.sin(gamma) * np.cos(gamma) ** 2 - v4\n",
    "    if np.isnan(e_an):\n",
    "        # breakpoint()\n",
    "        pass\n",
    "    return e_an, e_u4, e_v4\n",
    "\n",
    "\n",
    "def solve_modified(Ctprime, yaw, x0, **kwargs):\n",
    "    sol = _fixedpointiteration(\n",
    "        equations_residual,\n",
    "        x0,\n",
    "        relax=0.5,\n",
    "        args=(Ctprime, yaw),\n",
    "        kwargs=kwargs,\n",
    "    )\n",
    "\n",
    "    if sol.converged:\n",
    "        return sol.x\n",
    "    else:\n",
    "        return np.nan, np.nan, np.nan"
   ]
  },
  {
   "cell_type": "markdown",
   "metadata": {},
   "source": [
    "### Generate data using model\n",
    "The pressure-corrected actuator disk model is run over a grid of $C_T'$ and yaw angles, $\\gamma$. Autodifferentiation is performed to retrieve all gradients with respesct to $p_4-p_1$. This is achieved by replacing $ $p_4-p_1$$ with a dual number in a modified unified momentum implementation where the pressure can be set explicitly."
   ]
  },
  {
   "cell_type": "code",
   "execution_count": 4,
   "metadata": {},
   "outputs": [
    {
     "name": "stderr",
     "output_type": "stream",
     "text": [
      "  0%|          | 0/780 [00:00<?, ?it/s]"
     ]
    },
    {
     "name": "stderr",
     "output_type": "stream",
     "text": [
      "100%|██████████| 780/780 [00:01<00:00, 669.63it/s]\n"
     ]
    }
   ],
   "source": [
    "Cts = np.arange(0.2, 12.1, 0.2)\n",
    "yaws = np.arange(0, 61, 5)\n",
    "\n",
    "params = list(itertools.product(Cts, yaws))\n",
    "\n",
    "\n",
    "params = list(itertools.product(Cts, yaws))\n",
    "unified_momentum_model = UnifiedMomentum()\n",
    "\n",
    "\n",
    "def func(x):\n",
    "    Ctprime, yaw = x\n",
    "\n",
    "    # Solve the full equations to get the actual pressure difference.\n",
    "    sol = unified_momentum_model(Ctprime, np.deg2rad(yaw))\n",
    "    _a, _u4, _v4, dp = sol.an, sol.u4, sol.v4, sol.dp\n",
    "    dp = dl.DualNumber(dp, [1.0])\n",
    "    x0 = (_a * 0.9, _u4 * 0.9, _v4 * 0.9)\n",
    "\n",
    "    a, u4, v4 = solve_modified(Ctprime, np.deg2rad(yaw), x0, dp=dp)\n",
    "    Ct = Ctprime * (1 - a) ** 2 * np.cos(np.deg2rad(yaw)) ** 2\n",
    "    Cp = Ctprime * ((1 - a) * np.cos(np.deg2rad(yaw))) ** 3\n",
    "\n",
    "    if not isinstance(a, dl.DualNumber):\n",
    "        out = dict(\n",
    "            Ctprime=Ctprime,\n",
    "            Ct=np.nan,\n",
    "            yaw=yaw,\n",
    "            a=np.nan,\n",
    "            u4=np.nan,\n",
    "            v4=np.nan,\n",
    "            dp=np.nan,\n",
    "            Cp=np.nan,\n",
    "        )\n",
    "        return out, out\n",
    "\n",
    "    return dict(\n",
    "        Ctprime=Ctprime,\n",
    "        Ct=Ct.real[0],\n",
    "        yaw=yaw,\n",
    "        a=a.real[0],\n",
    "        u4=u4.real[0],\n",
    "        v4=v4.real[0],\n",
    "        dp=dp.real[0],\n",
    "        Cp=Cp.real[0],\n",
    "    ), dict(\n",
    "        Ctprime=Ctprime,\n",
    "        Ct=Ct.dual[0][0],\n",
    "        yaw=yaw,\n",
    "        a=a.dual[0][0],\n",
    "        u4=u4.dual[0][0],\n",
    "        v4=v4.dual[0][0],\n",
    "        dp=dp.dual[0][0],\n",
    "        Cp=Cp.dual[0][0],\n",
    "    )\n",
    "\n",
    "\n",
    "np.seterr(invalid=\"ignore\")\n",
    "out = for_each(func, params, parallel=True)\n",
    "df_pressure_real = pl.from_dicts([x[0] for x in out])\n",
    "df_pressure_dual = pl.from_dicts([x[1] for x in out])"
   ]
  },
  {
   "cell_type": "markdown",
   "metadata": {},
   "source": [
    "## Table"
   ]
  },
  {
   "cell_type": "code",
   "execution_count": 5,
   "metadata": {},
   "outputs": [
    {
     "data": {
      "text/html": [
       "<div><style>\n",
       ".dataframe > thead > tr,\n",
       ".dataframe > tbody > tr {\n",
       "  text-align: right;\n",
       "  white-space: pre-wrap;\n",
       "}\n",
       "</style>\n",
       "<small>shape: (1, 5)</small><table border=\"1\" class=\"dataframe\"><thead><tr><th>a</th><th>u4</th><th>dp</th><th>Cp</th><th>Ct</th></tr><tr><td>f64</td><td>f64</td><td>f64</td><td>f64</td><td>f64</td></tr></thead><tbody><tr><td>-0.010108</td><td>0.129042</td><td>1.0</td><td>0.01503</td><td>0.01002</td></tr></tbody></table></div>"
      ],
      "text/plain": [
       "shape: (1, 5)\n",
       "┌───────────┬──────────┬─────┬─────────┬─────────┐\n",
       "│ a         ┆ u4       ┆ dp  ┆ Cp      ┆ Ct      │\n",
       "│ ---       ┆ ---      ┆ --- ┆ ---     ┆ ---     │\n",
       "│ f64       ┆ f64      ┆ f64 ┆ f64     ┆ f64     │\n",
       "╞═══════════╪══════════╪═════╪═════════╪═════════╡\n",
       "│ -0.010108 ┆ 0.129042 ┆ 1.0 ┆ 0.01503 ┆ 0.01002 │\n",
       "└───────────┴──────────┴─────┴─────────┴─────────┘"
      ]
     },
     "execution_count": 5,
     "metadata": {},
     "output_type": "execute_result"
    }
   ],
   "source": [
    "values_real = (\n",
    "    df_pressure_real.filter(pl.col(\"Ctprime\") == 2)\n",
    "    .filter(pl.col(\"yaw\") == 0)\n",
    "    .select(pl.exclude(\"Ctprime\", \"yaw\", \"v4\", \"Ct\"), \"Ct\")\n",
    ")\n",
    "values_dual = (\n",
    "    df_pressure_dual.filter(pl.col(\"Ctprime\") == 2)\n",
    "    .filter(pl.col(\"yaw\") == 0)\n",
    "    .select(pl.exclude(\"Ctprime\", \"yaw\", \"v4\", \"Ct\"), \"Ct\")\n",
    ")\n",
    "\n",
    "(values_dual * values_real[\"dp\"] / values_real)"
   ]
  },
  {
   "cell_type": "markdown",
   "metadata": {},
   "source": [
    "## $\\beta$ Sensitivity\n",
    "This notebook investigates the sensitivity of the pressure-corrected actuator disk model with respect to th parameter, $\\beta$, which is related to the near-wake distance."
   ]
  },
  {
   "cell_type": "markdown",
   "metadata": {},
   "source": [
    "## Generate data using model\n",
    "The pressure-corrected actuator disk model is run over a grid of $C_T'$ and yaw angles, $\\gamma$. Autodifferentiation is performed to retrieve all gradients with respesct to $\\beta$. This is achieved by replacing $\\beta$ with a dual number."
   ]
  },
  {
   "cell_type": "code",
   "execution_count": 6,
   "metadata": {},
   "outputs": [],
   "source": [
    "from UnifiedMomentumModel.Pressure.PressureTable import generate_pressure_table\n",
    "\n",
    "\n",
    "dps, xs, ps = generate_pressure_table()"
   ]
  },
  {
   "cell_type": "code",
   "execution_count": 7,
   "metadata": {},
   "outputs": [],
   "source": [
    "class RectBivariateSpline_override:\n",
    "    def __init__(self, x, y, z, *args, **kwargs):\n",
    "        self.spline = RectBivariateSpline(x, y, z, *args, **kwargs)\n",
    "\n",
    "    def __call__(self, x, y, dx=0, dy=0, grid=True):\n",
    "        if isinstance(x, dl.DualNumber) and isinstance(y, dl.DualNumber):\n",
    "            if grid == True:\n",
    "                raise NotImplementedError\n",
    "            primal = self.spline(x.real, y.real, dx=dx, dy=dy, grid=grid)\n",
    "            dual = (\n",
    "                x.dual\n",
    "                * self.spline(x.real, y.real, dx=dx + 1, dy=dy, grid=grid)[..., None]\n",
    "                + y.dual\n",
    "                * self.spline(x.real, y.real, dx=dx, dy=dy + 1, grid=grid)[..., None]\n",
    "            )\n",
    "            return dl.DualNumber(primal, dual)\n",
    "        elif (not isinstance(x, dl.DualNumber)) and isinstance(y, dl.DualNumber):\n",
    "            if grid == True:\n",
    "                raise NotImplementedError\n",
    "            primal = self.spline(x, y.real, dx=dx, dy=dy, grid=grid)\n",
    "            dual = (\n",
    "                y.dual * self.spline(x, y.real, dx=dx, dy=dy + 1, grid=grid)[..., None]\n",
    "            )\n",
    "            return dl.DualNumber(primal, dual)\n",
    "        else:\n",
    "            return self.spline(x, y, dx=dx, dy=dy, grid=grid)\n",
    "\n",
    "    def get_coeffs(self):\n",
    "        return self.spline.get_coeffs()\n",
    "\n",
    "    def get_knots(self):\n",
    "        return self.spline.get_knots()\n",
    "\n",
    "    def get_residual(self):\n",
    "        return self.spline.get_residual()\n",
    "\n",
    "    def integral(self):\n",
    "        raise NotImplementedError\n",
    "\n",
    "    def partial_derivative(self, dx, dy):\n",
    "        raise NotImplementedError\n",
    "\n",
    "\n",
    "interpolator = RectBivariateSpline_override(dps, xs, ps, kx=2, ky=2, s=0.0)"
   ]
  },
  {
   "cell_type": "code",
   "execution_count": 8,
   "metadata": {},
   "outputs": [],
   "source": [
    "def my_dual_number_nonlinear_interpolator(x):\n",
    "    dp, x0 = x\n",
    "\n",
    "    p_g = interpolator(dp, x0, grid=False)\n",
    "    return p_g"
   ]
  },
  {
   "cell_type": "code",
   "execution_count": 9,
   "metadata": {},
   "outputs": [
    {
     "name": "stderr",
     "output_type": "stream",
     "text": [
      "100%|██████████| 780/780 [00:03<00:00, 239.55it/s]\n"
     ]
    }
   ],
   "source": [
    "beta = dl.DualNumber([0.1403], [[1]])\n",
    "\n",
    "unified_momentum_model = fixedpointiteration(max_iter=1000, tolerance=0.000001)(\n",
    "    UnifiedMomentum\n",
    ")(beta=beta)\n",
    "unified_momentum_model.nonlinear_interpolator = my_dual_number_nonlinear_interpolator\n",
    "\n",
    "\n",
    "def func(x):\n",
    "    Ctprime, yaw = x\n",
    "    solution = unified_momentum_model(Ctprime, np.deg2rad(yaw))\n",
    "\n",
    "    return dict(\n",
    "        Ctprime=Ctprime,\n",
    "        Ct=solution.Ct.real[0],\n",
    "        yaw=yaw,\n",
    "        a=solution.an.real[0],\n",
    "        u4=solution.u4.real[0],\n",
    "        v4=solution.v4.real[0],\n",
    "        dp=solution.dp.real[0],\n",
    "        Cp=solution.Cp.real[0],\n",
    "    ), dict(\n",
    "        Ctprime=Ctprime,\n",
    "        Ct=solution.Ct.dual[0][0],\n",
    "        yaw=yaw,\n",
    "        a=solution.an.dual[0][0],\n",
    "        u4=solution.u4.dual[0][0],\n",
    "        v4=solution.v4.dual[0][0],\n",
    "        dp=solution.dp.dual[0][0],\n",
    "        Cp=solution.Cp.dual[0][0],\n",
    "    )\n",
    "\n",
    "\n",
    "np.seterr(invalid=\"ignore\")\n",
    "out = for_each(func, params, parallel=True)\n",
    "df_beta_real = pl.from_dicts([x[0] for x in out])\n",
    "df_beta_dual = pl.from_dicts([x[1] for x in out])"
   ]
  },
  {
   "cell_type": "markdown",
   "metadata": {},
   "source": [
    "## Table"
   ]
  },
  {
   "cell_type": "code",
   "execution_count": 10,
   "metadata": {},
   "outputs": [
    {
     "data": {
      "text/html": [
       "<div><style>\n",
       ".dataframe > thead > tr,\n",
       ".dataframe > tbody > tr {\n",
       "  text-align: right;\n",
       "  white-space: pre-wrap;\n",
       "}\n",
       "</style>\n",
       "<small>shape: (1, 5)</small><table border=\"1\" class=\"dataframe\"><thead><tr><th>a</th><th>u4</th><th>dp</th><th>Cp</th><th>Ct</th></tr><tr><td>f64</td><td>f64</td><td>f64</td><td>f64</td><td>f64</td></tr></thead><tbody><tr><td>-0.010347</td><td>0.133697</td><td>1.042294</td><td>0.015389</td><td>0.010259</td></tr></tbody></table></div>"
      ],
      "text/plain": [
       "shape: (1, 5)\n",
       "┌───────────┬──────────┬──────────┬──────────┬──────────┐\n",
       "│ a         ┆ u4       ┆ dp       ┆ Cp       ┆ Ct       │\n",
       "│ ---       ┆ ---      ┆ ---      ┆ ---      ┆ ---      │\n",
       "│ f64       ┆ f64      ┆ f64      ┆ f64      ┆ f64      │\n",
       "╞═══════════╪══════════╪══════════╪══════════╪══════════╡\n",
       "│ -0.010347 ┆ 0.133697 ┆ 1.042294 ┆ 0.015389 ┆ 0.010259 │\n",
       "└───────────┴──────────┴──────────┴──────────┴──────────┘"
      ]
     },
     "execution_count": 10,
     "metadata": {},
     "output_type": "execute_result"
    }
   ],
   "source": [
    "values_real = (\n",
    "    df_beta_real.filter(pl.col(\"Ctprime\") == 2)\n",
    "    .filter(pl.col(\"yaw\") == 0)\n",
    "    .select(pl.exclude(\"Ctprime\", \"yaw\", \"v4\", \"Ct\"), \"Ct\")\n",
    ")\n",
    "values_real\n",
    "values_dual = (\n",
    "    df_beta_dual.filter(pl.col(\"Ctprime\") == 2)\n",
    "    .filter(pl.col(\"yaw\") == 0)\n",
    "    .select(pl.exclude(\"Ctprime\", \"yaw\", \"v4\", \"Ct\"), \"Ct\")\n",
    ")\n",
    "\n",
    "(values_dual * beta.real[0] / values_real)"
   ]
  },
  {
   "cell_type": "markdown",
   "metadata": {},
   "source": [
    "# Plotting\n",
    "Various values as well as their gradient field (with respect to $\\beta$) are plotted as contour plots as a function of $C_T'$ and $\\gamma$. All figures set $\\Delta \\beta=0.01$."
   ]
  },
  {
   "cell_type": "code",
   "execution_count": 11,
   "metadata": {},
   "outputs": [
    {
     "data": {
      "image/png": "[encoded data removed]",
      "text/plain": [
       "<Figure size 640x160 with 5 Axes>"
      ]
     },
     "metadata": {},
     "output_type": "display_data"
    }
   ],
   "source": [
    "# plot versus Ctprime\n",
    "\n",
    "figdir_surface = figdir / \"beta_sensitivity\"\n",
    "figdir_surface.mkdir(parents=True, exist_ok=True)\n",
    "\n",
    "\n",
    "key, label = \"u4\", \"u_4\"\n",
    "# plot versus Ctprime\n",
    "fig = plt.figure(figsize=0.8 * np.array((8, 2)))\n",
    "gs = GridSpec(1, 6, width_ratios=[1, 0.1, 0.4, 1, 1, 0.1])\n",
    "\n",
    "axes = [plt.subplot(gs[0])]\n",
    "axes.append(plt.subplot(gs[3], sharey=axes[0]))\n",
    "axes.append(plt.subplot(gs[4], sharey=axes[0]))\n",
    "plt.setp(axes[2].get_yticklabels(), visible=False)\n",
    "\n",
    "axes[0].set_title(f\"${label}$\")\n",
    "label_sensitivity = (\n",
    "    \"$\\\\frac{\\\\beta}{\"\n",
    "    + label\n",
    "    + \"}\\cdot \\\\frac{\\partial \"\n",
    "    + label\n",
    "    + \"}{\\partial \\\\beta}$\"\n",
    ")\n",
    "axes[1].set_title(label_sensitivity, pad=8)\n",
    "label_sensitivity = (\n",
    "    \"$\\\\frac{(p_4-p_1)}{\"\n",
    "    + label\n",
    "    + \"}\\cdot \\\\frac{\\partial \"\n",
    "    + label\n",
    "    + \"}{\\partial (p_4-p_1)}$\"\n",
    ")\n",
    "axes[2].set_title(label_sensitivity, pad=8)\n",
    "\n",
    "df_piv_real = df_pressure_real.filter(pl.col(\"Ctprime\") < 12).pivot(\n",
    "    index=\"Ctprime\", columns=\"yaw\", values=key\n",
    ")\n",
    "\n",
    "df_pressure_piv_dual = df_pressure_dual.filter(pl.col(\"Ctprime\") < 12).pivot(\n",
    "    index=\"Ctprime\", columns=\"yaw\", values=key\n",
    ")\n",
    "\n",
    "df_beta_piv_dual = df_beta_dual.filter(pl.col(\"Ctprime\") < 12).pivot(\n",
    "    index=\"Ctprime\", columns=\"yaw\", values=key\n",
    ")\n",
    "\n",
    "df_piv_pressure = df_pressure_real.filter(pl.col(\"Ctprime\") < 12).pivot(\n",
    "    index=\"Ctprime\", columns=\"yaw\", values=\"dp\"\n",
    ")\n",
    "yaws = np.array(df_piv_real.columns[1:], dtype=float)\n",
    "\n",
    "Cts = df_piv_real[\"Ctprime\"].to_numpy()\n",
    "values_real = df_piv_real.to_numpy()[:, 1:]\n",
    "values_beta_dual = df_beta_piv_dual.to_numpy()[:, 1:]\n",
    "values_pressure_dual = df_pressure_piv_dual.to_numpy()[:, 1:]\n",
    "values_pressure = df_piv_pressure.to_numpy()[:, 1:]\n",
    "\n",
    "level = None\n",
    "\n",
    "CF = axes[0].contourf(yaws, Cts, values_real, levels=level)\n",
    "CS = axes[0].contour(yaws, Cts, values_real, levels=level, colors=\"k\")\n",
    "\n",
    "cax = plt.subplot(gs[1])\n",
    "cbar = plt.colorbar(CF, cax=cax, format=\"%.2f\")\n",
    "\n",
    "\n",
    "sensitivity_levels = [x for x in np.arange(0, 1.3, 0.1)]\n",
    "CF = axes[1].contourf(\n",
    "    yaws,\n",
    "    Cts,\n",
    "    beta.real[0] * values_beta_dual / values_real,\n",
    "    levels=sensitivity_levels,\n",
    "    cmap=\"YlGnBu\",\n",
    ")\n",
    "CS = axes[1].contour(\n",
    "    yaws,\n",
    "    Cts,\n",
    "    beta.real[0] * values_beta_dual / values_real,\n",
    "    levels=sensitivity_levels,\n",
    "    colors=\"k\",\n",
    ")\n",
    "\n",
    "axes[2].contourf(\n",
    "    yaws,\n",
    "    Cts,\n",
    "    values_pressure * values_pressure_dual / values_real,\n",
    "    levels=sensitivity_levels,\n",
    "    cmap=\"YlGnBu\",\n",
    ")\n",
    "CS = axes[2].contour(\n",
    "    yaws,\n",
    "    Cts,\n",
    "    values_pressure * values_pressure_dual / values_real,\n",
    "    levels=sensitivity_levels,\n",
    "    colors=\"k\",\n",
    ")\n",
    "\n",
    "cax = plt.subplot(gs[5])\n",
    "cbar = plt.colorbar(CF, cax=cax)\n",
    "\n",
    "axes[2].set_xlabel(\"$\\gamma$ (°)\")\n",
    "axes[1].set_xlabel(\"$\\gamma$ (°)\")\n",
    "axes[0].set_xlabel(\"$\\gamma$ (°)\")\n",
    "axes[0].set_ylabel(\"$C_T'$ [-]\")\n",
    "\n",
    "plt.savefig(figdir / f\"supplement_u4_sensitivity.png\", dpi=300, bbox_inches=\"tight\")\n",
    "plt.savefig(figdir_eps / f\"supplement_u4_sensitivity.eps\", bbox_inches=\"tight\")"
   ]
  },
  {
   "cell_type": "code",
   "execution_count": 12,
   "metadata": {},
   "outputs": [
    {
     "data": {
      "image/png": "[encoded data removed]",
      "text/plain": [
       "<Figure size 640x160 with 4 Axes>"
      ]
     },
     "metadata": {},
     "output_type": "display_data"
    }
   ],
   "source": [
    "# plot versus Ctprime\n",
    "fig = plt.figure(figsize=0.8 * np.array((8, 2)))\n",
    "gs = GridSpec(1, 5, width_ratios=[1, 0.1, 0.4, 1, 0.1])\n",
    "\n",
    "axes = [plt.subplot(gs[0])]\n",
    "axes.append(plt.subplot(gs[3], sharey=axes[0]))\n",
    "\n",
    "key, label = \"dp\", \"(p_4-p_1)\"\n",
    "axes[0].set_title(f\"${label}/\\\\rho u_\\infty^2$\")\n",
    "label_sensitivity = (\n",
    "    \"$\\\\frac{\\\\beta}{\"\n",
    "    + label\n",
    "    + \"}\\cdot \\\\frac{\\partial \"\n",
    "    + label\n",
    "    + \"}{\\partial \\\\beta}$\"\n",
    ")\n",
    "axes[1].set_title(label_sensitivity, pad=8)\n",
    "\n",
    "\n",
    "df_piv_real = df_pressure_real.filter(pl.col(\"Ctprime\") < 12).pivot(\n",
    "    index=\"Ctprime\", columns=\"yaw\", values=key\n",
    ")\n",
    "\n",
    "\n",
    "df_beta_piv_dual = df_beta_dual.filter(pl.col(\"Ctprime\") < 12).pivot(\n",
    "    index=\"Ctprime\", columns=\"yaw\", values=key\n",
    ")\n",
    "\n",
    "\n",
    "yaws = np.array(df_piv_real.columns[1:], dtype=float)\n",
    "Cts = df_piv_real[\"Ctprime\"].to_numpy()\n",
    "\n",
    "Ctmesh, yawmesh = np.meshgrid(Cts, yaws, indexing=\"ij\")\n",
    "values_real = df_piv_real.to_numpy()[:, 1:]\n",
    "values_beta_dual = df_beta_piv_dual.to_numpy()[:, 1:]\n",
    "\n",
    "# Filter out undefined sensitivity values\n",
    "values_beta_dual[Ctmesh < 1.0] = np.nan\n",
    "\n",
    "\n",
    "level = np.arange(-0.1, 0.02, 0.02)\n",
    "CF = axes[0].contourf(yaws, Cts, values_real, levels=level, cmap=\"viridis_r\")\n",
    "axes[0].contour(yaws, Cts, values_real, levels=level, colors=\"k\")\n",
    "axes[0].clabel(CS, inline=True, fontsize=10)\n",
    "\n",
    "\n",
    "cax = plt.subplot(gs[1])\n",
    "cbar = plt.colorbar(CF, cax=cax, format=\"%.2f\")\n",
    "\n",
    "axes[1].set_facecolor(\"black\")\n",
    "sensitivity_levels = [x for x in np.arange(0, 1.3, 0.1)]\n",
    "CF = axes[1].contourf(\n",
    "    yaws,\n",
    "    Cts,\n",
    "    beta.real[0] * values_beta_dual / values_real,\n",
    "    levels=sensitivity_levels,\n",
    "    cmap=\"YlGnBu\",\n",
    ")\n",
    "CS = axes[1].contour(\n",
    "    yaws,\n",
    "    Cts,\n",
    "    beta.real[0] * values_beta_dual / values_real,\n",
    "    levels=sensitivity_levels,\n",
    "    colors=\"k\",\n",
    ")\n",
    "\n",
    "cax = plt.subplot(gs[4])\n",
    "cbar = plt.colorbar(CF, cax=cax)\n",
    "\n",
    "axes[1].set_xlabel(\"$\\gamma$ (°)\")\n",
    "axes[0].set_xlabel(\"$\\gamma$ (°)\")\n",
    "axes[0].set_ylabel(\"$C_T'$ [-]\")\n",
    "axes[1].set_ylabel(\"$C_T'$ [-]\")\n",
    "\n",
    "plt.savefig(\n",
    "    figdir / f\"supplement_pressure_sensitivity.png\", dpi=300, bbox_inches=\"tight\"\n",
    ")\n",
    "plt.savefig(figdir_eps / f\"supplement_pressure_sensitivity.eps\", bbox_inches=\"tight\")"
   ]
  }
 ],
 "metadata": {
  "kernelspec": {
   "display_name": ".venv",
   "language": "python",
   "name": "python3"
  },
  "language_info": {
   "codemirror_mode": {
    "name": "ipython",
    "version": 3
   },
   "file_extension": ".py",
   "mimetype": "text/x-python",
   "name": "python",
   "nbconvert_exporter": "python",
   "pygments_lexer": "ipython3",
   "version": "3.10.12"
  },
  "orig_nbformat": 4
 },
 "nbformat": 4,
 "nbformat_minor": 2
}
